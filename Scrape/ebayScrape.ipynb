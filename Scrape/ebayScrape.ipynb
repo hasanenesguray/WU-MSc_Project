{
 "cells": [
  {
   "cell_type": "code",
   "execution_count": 1,
   "id": "29ef55fd",
   "metadata": {},
   "outputs": [
    {
     "ename": "AttributeError",
     "evalue": "'NoneType' object has no attribute 'get_text'",
     "output_type": "error",
     "traceback": [
      "\u001b[0;31m---------------------------------------------------------------------------\u001b[0m",
      "\u001b[0;31mAttributeError\u001b[0m                            Traceback (most recent call last)",
      "\u001b[0;32m/var/folders/_k/_rt6thqx6mj63rxtq_q_l7j00000gn/T/ipykernel_37627/2455170758.py\u001b[0m in \u001b[0;36m<module>\u001b[0;34m\u001b[0m\n\u001b[1;32m     14\u001b[0m \u001b[0;34m\u001b[0m\u001b[0m\n\u001b[1;32m     15\u001b[0m \u001b[0;31m# Get the text from the element\u001b[0m\u001b[0;34m\u001b[0m\u001b[0;34m\u001b[0m\u001b[0m\n\u001b[0;32m---> 16\u001b[0;31m \u001b[0mproduct_title\u001b[0m \u001b[0;34m=\u001b[0m \u001b[0mproduct_title_element\u001b[0m\u001b[0;34m.\u001b[0m\u001b[0mget_text\u001b[0m\u001b[0;34m(\u001b[0m\u001b[0mstrip\u001b[0m\u001b[0;34m=\u001b[0m\u001b[0;32mTrue\u001b[0m\u001b[0;34m)\u001b[0m\u001b[0;34m\u001b[0m\u001b[0;34m\u001b[0m\u001b[0m\n\u001b[0m\u001b[1;32m     17\u001b[0m \u001b[0;34m\u001b[0m\u001b[0m\n\u001b[1;32m     18\u001b[0m \u001b[0mprint\u001b[0m\u001b[0;34m(\u001b[0m\u001b[0mproduct_title\u001b[0m\u001b[0;34m)\u001b[0m\u001b[0;34m\u001b[0m\u001b[0;34m\u001b[0m\u001b[0m\n",
      "\u001b[0;31mAttributeError\u001b[0m: 'NoneType' object has no attribute 'get_text'"
     ]
    }
   ],
   "source": [
    "import requests\n",
    "from bs4 import BeautifulSoup\n",
    "\n",
    "url = \"https://www.amazon.co.uk/Apple-iPhone-15-128-GB/dp/B0CHX7Z69Z/ref=sr_1_1_sspa?crid=1ZNTHJFE8S6MR&keywords=iphone&qid=1698077516&sprefix=iphon%2Caps%2C659&sr=8-1-spons&sp_csd=d2lkZ2V0TmFtZT1zcF9hdGY&psc=1\"\n",
    "\n",
    "# Send a GET request to the URL\n",
    "response = requests.get(url)\n",
    "\n",
    "# Parse the HTML content\n",
    "soup = BeautifulSoup(response.content, 'html.parser')\n",
    "\n",
    "# Find the element with the specified ID and class\n",
    "product_title_element = soup.find('span', {'id': 'productTitle', 'class': 'a-size-large product-title-word-break'})\n",
    "\n",
    "# Get the text from the element\n",
    "product_title = product_title_element.get_text(strip=True)\n",
    "\n",
    "print(product_title)\n"
   ]
  },
  {
   "cell_type": "code",
   "execution_count": null,
   "id": "6a58c0c2",
   "metadata": {},
   "outputs": [],
   "source": []
  },
  {
   "cell_type": "code",
   "execution_count": 7,
   "id": "90e89871",
   "metadata": {},
   "outputs": [
    {
     "name": "stdout",
     "output_type": "stream",
     "text": [
      "\n"
     ]
    }
   ],
   "source": [
    "import requests\n",
    "from bs4 import BeautifulSoup\n",
    "\n",
    "url = \"https://www.ebay.co.uk/itm/404561506329?epid=7052775937&hash=item5e31beb019:g:pjUAAOSwD4hlMjfM&amdata=enc%3AAQAIAAAA0DS%2BHBZXg%2B91AMPMNuaKmvaXfniK6GThHnlzWqGxFS00G3AeFiUwVKcEPoUKKMQaoWzrd%2FEarjQMhsp02qIWlAHYdeefYx6%2FngteWe%2FMIKqtkb2NrYv0tA%2F9SSWVw4fCf96eLMjYZ3EtwnCBhcCsG9VSaLciCNF1lCOhHmlE1Jjw1BpZN8eE87c1hItIlCmBeaCPABvpqR7xsM7Z9I4fJI2GTn4q7Rgw30dAEO5m3Y3O%2FVyPIYCYZHtnR7JUtOF5nAxRRopJpAwBrAszQsR6eqI%3D%7Ctkp%3ABFBMqN6U1eti\"\n",
    "\n",
    "# Send a GET request to the URL\n",
    "response = requests.get(url)\n",
    "\n",
    "# Parse the HTML content\n",
    "soup = BeautifulSoup(response.content, 'html.parser')\n",
    "\n",
    "# Find the element with the specified class\n",
    "product_title_element = soup.find('span', {'class': 'ux-textspans'})\n",
    "\n",
    "# Get the text from the element\n",
    "product_title = product_title_element.get_text(strip=True)\n",
    "\n",
    "print(product_title)\n"
   ]
  },
  {
   "cell_type": "code",
   "execution_count": 12,
   "id": "a98780d9",
   "metadata": {},
   "outputs": [
    {
     "name": "stdout",
     "output_type": "stream",
     "text": [
      "{'Product Title': 'Apple iPhone SE 3rd Gen. - 64GB - Midnight (Unlocked)', 'Condition': 'Opened – never used', 'Price': '£220.00'}\n"
     ]
    }
   ],
   "source": [
    "import requests\n",
    "from bs4 import BeautifulSoup\n",
    "\n",
    "# Define the URLs\n",
    "urls = [\n",
    "    \"https://www.ebay.co.uk/itm/404561506329?epid=7052775937&hash=item5e31beb019:g:pjUAAOSwD4hlMjfM&amdata=enc%3AAQAIAAAA0DS%2BHBZXg%2B91AMPMNuaKmvaXfniK6GThHnlzWqGxFS00G3AeFiUwVKcEPoUKKMQaoWzrd%2FEarjQMhsp02qIWlAHYdeefYx6%2FngteWe%2FMIKqtkb2NrYv0tA%2F9SSWVw4fCf96eLMjYZ3EtwnCBhcCsG9VSaLciCNF1lCOhHmlE1Jjw1BpZN8eE87c1hItIlCmBeaCPABvpqR7xsM7Z9I4fJI2GTn4q7Rgw30dAEO5m3Y3O%2FVyPIYCYZHtnR7JUtOF5nAxRRopJpAwBrAszQsR6eqI%3D%7Ctkp%3ABFBMqN6U1eti\"\n",
    "]\n",
    "\n",
    "# Initialize an empty list to store the results\n",
    "results = []\n",
    "\n",
    "for url in urls:\n",
    "    # Send a GET request to the URL\n",
    "    response = requests.get(url)\n",
    "    \n",
    "    # Parse the HTML content\n",
    "    soup = BeautifulSoup(response.content, 'html.parser')\n",
    "    \n",
    "    # Find the elements\n",
    "    product_title_element = soup.find('span', {'class': 'ux-textspans ux-textspans--BOLD'})\n",
    "    condition_element = soup.find('span', {'data-testid': 'ux-textual-display'})\n",
    "    price_element = soup.find('div', {'data-testid': 'x-price-primary'})\n",
    "    \n",
    "    # Get the text from the elements\n",
    "    product_title = product_title_element.get_text(strip=True)\n",
    "    condition = condition_element.find(class_=\"ux-textspans\").text.strip()\n",
    "    price = price_element.find(class_=\"ux-textspans\").text.strip()\n",
    "    \n",
    "    # Append the results to the list\n",
    "    results.append({'Product Title': product_title, 'Condition': condition, 'Price': price})\n",
    "\n",
    "# Print the results\n",
    "for result in results:\n",
    "    print(result)\n"
   ]
  },
  {
   "cell_type": "code",
   "execution_count": 8,
   "id": "aebb82e0",
   "metadata": {},
   "outputs": [
    {
     "name": "stdout",
     "output_type": "stream",
     "text": [
      "\n"
     ]
    }
   ],
   "source": [
    "import requests\n",
    "from bs4 import BeautifulSoup\n",
    "\n",
    "# Define the URL\n",
    "url = \"https://www.ebay.co.uk/itm/404561506329?epid=7052775937&hash=item5e31beb019:g:pjUAAOSwD4hlMjfM&amdata=enc%3AAQAIAAAA0DS%2BHBZXg%2B91AMPMNuaKmvaXfniK6GThHnlzWqGxFS00G3AeFiUwVKcEPoUKKMQaoWzrd%2FEarjQMhsp02qIWlAHYdeefYx6%2FngteWe%2FMIKqtkb2NrYv0tA%2F9SSWVw4fCf96eLMjYZ3EtwnCBhcCsG9VSaLciCNF1lCOhHmlE1Jjw1BpZN8eE87c1hItIlCmBeaCPABvpqR7xsM7Z9I4fJI2GTn4q7Rgw30dAEO5m3Y3O%2FVyPIYCYZHtnR7JUtOF5nAxRRopJpAwBrAszQsR6eqI%3D%7Ctkp%3ABFBMqN6U1eti\"\n",
    "\n",
    "# Send a request to the URL and get the content\n",
    "response = requests.get(url)\n",
    "html_content = response.content\n",
    "\n",
    "# Create a BeautifulSoup object\n",
    "soup = BeautifulSoup(html_content, 'html.parser')\n",
    "\n",
    "# Find the element with class \"ux-textspans\" and get its text\n",
    "element = soup.find(class_=\"ux-textspans\")\n",
    "text = element.text.strip()\n",
    "\n",
    "print(text)\n"
   ]
  },
  {
   "cell_type": "code",
   "execution_count": null,
   "id": "d723005e",
   "metadata": {},
   "outputs": [],
   "source": [
    "<div class=\"x-price-primary\" data-testid=\"x-price-primary\"><span class=\"ux-textspans\">£220.00</span></div>"
   ]
  }
 ],
 "metadata": {
  "kernelspec": {
   "display_name": "Python 3 (ipykernel)",
   "language": "python",
   "name": "python3"
  },
  "language_info": {
   "codemirror_mode": {
    "name": "ipython",
    "version": 3
   },
   "file_extension": ".py",
   "mimetype": "text/x-python",
   "name": "python",
   "nbconvert_exporter": "python",
   "pygments_lexer": "ipython3",
   "version": "3.9.12"
  }
 },
 "nbformat": 4,
 "nbformat_minor": 5
}
